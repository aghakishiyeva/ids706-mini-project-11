{
 "cells": [
  {
   "cell_type": "markdown",
   "metadata": {
    "application/vnd.databricks.v1+cell": {
     "cellMetadata": {},
     "inputWidgets": {},
     "nuid": "8a610f61-492a-4718-bd44-e2d441618ba1",
     "showTitle": false,
     "title": ""
    }
   },
   "source": [
    "## Exploring available datasets"
   ]
  },
  {
   "cell_type": "code",
   "execution_count": 0,
   "metadata": {
    "application/vnd.databricks.v1+cell": {
     "cellMetadata": {
      "byteLimit": 2048000,
      "rowLimit": 10000
     },
     "collapsed": true,
     "inputWidgets": {},
     "nuid": "82cbe048-4784-46f1-97a7-01d1389f1124",
     "showTitle": false,
     "title": ""
    }
   },
   "outputs": [
    {
     "output_type": "execute_result",
     "data": {
      "text/plain": [
       "[FileInfo(path='dbfs:/databricks-datasets/COVID/', name='COVID/', size=0, modificationTime=1701096739789),\n",
       " FileInfo(path='dbfs:/databricks-datasets/README.md', name='README.md', size=976, modificationTime=1532502324000),\n",
       " FileInfo(path='dbfs:/databricks-datasets/Rdatasets/', name='Rdatasets/', size=0, modificationTime=1701096739789),\n",
       " FileInfo(path='dbfs:/databricks-datasets/SPARK_README.md', name='SPARK_README.md', size=3359, modificationTime=1455505834000),\n",
       " FileInfo(path='dbfs:/databricks-datasets/adult/', name='adult/', size=0, modificationTime=1701096739789),\n",
       " FileInfo(path='dbfs:/databricks-datasets/airlines/', name='airlines/', size=0, modificationTime=1701096739789),\n",
       " FileInfo(path='dbfs:/databricks-datasets/amazon/', name='amazon/', size=0, modificationTime=1701096739789),\n",
       " FileInfo(path='dbfs:/databricks-datasets/asa/', name='asa/', size=0, modificationTime=1701096739789),\n",
       " FileInfo(path='dbfs:/databricks-datasets/atlas_higgs/', name='atlas_higgs/', size=0, modificationTime=1701096739789),\n",
       " FileInfo(path='dbfs:/databricks-datasets/bikeSharing/', name='bikeSharing/', size=0, modificationTime=1701096739789),\n",
       " FileInfo(path='dbfs:/databricks-datasets/cctvVideos/', name='cctvVideos/', size=0, modificationTime=1701096739789),\n",
       " FileInfo(path='dbfs:/databricks-datasets/credit-card-fraud/', name='credit-card-fraud/', size=0, modificationTime=1701096739789),\n",
       " FileInfo(path='dbfs:/databricks-datasets/cs100/', name='cs100/', size=0, modificationTime=1701096739789),\n",
       " FileInfo(path='dbfs:/databricks-datasets/cs110x/', name='cs110x/', size=0, modificationTime=1701096739789),\n",
       " FileInfo(path='dbfs:/databricks-datasets/cs190/', name='cs190/', size=0, modificationTime=1701096739789),\n",
       " FileInfo(path='dbfs:/databricks-datasets/data.gov/', name='data.gov/', size=0, modificationTime=1701096739789),\n",
       " FileInfo(path='dbfs:/databricks-datasets/definitive-guide/', name='definitive-guide/', size=0, modificationTime=1701096739789),\n",
       " FileInfo(path='dbfs:/databricks-datasets/delta-sharing/', name='delta-sharing/', size=0, modificationTime=1701096739789),\n",
       " FileInfo(path='dbfs:/databricks-datasets/flights/', name='flights/', size=0, modificationTime=1701096739790),\n",
       " FileInfo(path='dbfs:/databricks-datasets/flower_photos/', name='flower_photos/', size=0, modificationTime=1701096739790),\n",
       " FileInfo(path='dbfs:/databricks-datasets/flowers/', name='flowers/', size=0, modificationTime=1701096739790),\n",
       " FileInfo(path='dbfs:/databricks-datasets/genomics/', name='genomics/', size=0, modificationTime=1701096739790),\n",
       " FileInfo(path='dbfs:/databricks-datasets/hail/', name='hail/', size=0, modificationTime=1701096739790),\n",
       " FileInfo(path='dbfs:/databricks-datasets/identifying-campaign-effectiveness/', name='identifying-campaign-effectiveness/', size=0, modificationTime=1701096739790),\n",
       " FileInfo(path='dbfs:/databricks-datasets/iot/', name='iot/', size=0, modificationTime=1701096739790),\n",
       " FileInfo(path='dbfs:/databricks-datasets/iot-stream/', name='iot-stream/', size=0, modificationTime=1701096739790),\n",
       " FileInfo(path='dbfs:/databricks-datasets/learning-spark/', name='learning-spark/', size=0, modificationTime=1701096739790),\n",
       " FileInfo(path='dbfs:/databricks-datasets/learning-spark-v2/', name='learning-spark-v2/', size=0, modificationTime=1701096739790),\n",
       " FileInfo(path='dbfs:/databricks-datasets/lending-club-loan-stats/', name='lending-club-loan-stats/', size=0, modificationTime=1701096739790),\n",
       " FileInfo(path='dbfs:/databricks-datasets/med-images/', name='med-images/', size=0, modificationTime=1701096739790),\n",
       " FileInfo(path='dbfs:/databricks-datasets/media/', name='media/', size=0, modificationTime=1701096739790),\n",
       " FileInfo(path='dbfs:/databricks-datasets/mnist-digits/', name='mnist-digits/', size=0, modificationTime=1701096739790),\n",
       " FileInfo(path='dbfs:/databricks-datasets/news20.binary/', name='news20.binary/', size=0, modificationTime=1701096739790),\n",
       " FileInfo(path='dbfs:/databricks-datasets/nyctaxi/', name='nyctaxi/', size=0, modificationTime=1701096739790),\n",
       " FileInfo(path='dbfs:/databricks-datasets/nyctaxi-with-zipcodes/', name='nyctaxi-with-zipcodes/', size=0, modificationTime=1701096739790),\n",
       " FileInfo(path='dbfs:/databricks-datasets/online_retail/', name='online_retail/', size=0, modificationTime=1701096739790),\n",
       " FileInfo(path='dbfs:/databricks-datasets/overlap-join/', name='overlap-join/', size=0, modificationTime=1701096739790),\n",
       " FileInfo(path='dbfs:/databricks-datasets/power-plant/', name='power-plant/', size=0, modificationTime=1701096739790),\n",
       " FileInfo(path='dbfs:/databricks-datasets/retail-org/', name='retail-org/', size=0, modificationTime=1701096739790),\n",
       " FileInfo(path='dbfs:/databricks-datasets/rwe/', name='rwe/', size=0, modificationTime=1701096739790),\n",
       " FileInfo(path='dbfs:/databricks-datasets/sai-summit-2019-sf/', name='sai-summit-2019-sf/', size=0, modificationTime=1701096739790),\n",
       " FileInfo(path='dbfs:/databricks-datasets/sample_logs/', name='sample_logs/', size=0, modificationTime=1701096739790),\n",
       " FileInfo(path='dbfs:/databricks-datasets/samples/', name='samples/', size=0, modificationTime=1701096739790),\n",
       " FileInfo(path='dbfs:/databricks-datasets/sfo_customer_survey/', name='sfo_customer_survey/', size=0, modificationTime=1701096739790),\n",
       " FileInfo(path='dbfs:/databricks-datasets/sms_spam_collection/', name='sms_spam_collection/', size=0, modificationTime=1701096739790),\n",
       " FileInfo(path='dbfs:/databricks-datasets/songs/', name='songs/', size=0, modificationTime=1701096739790),\n",
       " FileInfo(path='dbfs:/databricks-datasets/structured-streaming/', name='structured-streaming/', size=0, modificationTime=1701096739790),\n",
       " FileInfo(path='dbfs:/databricks-datasets/timeseries/', name='timeseries/', size=0, modificationTime=1701096739790),\n",
       " FileInfo(path='dbfs:/databricks-datasets/tpch/', name='tpch/', size=0, modificationTime=1701096739790),\n",
       " FileInfo(path='dbfs:/databricks-datasets/travel_recommendations_realtime/', name='travel_recommendations_realtime/', size=0, modificationTime=1701096739791),\n",
       " FileInfo(path='dbfs:/databricks-datasets/warmup/', name='warmup/', size=0, modificationTime=1701096739791),\n",
       " FileInfo(path='dbfs:/databricks-datasets/weather/', name='weather/', size=0, modificationTime=1701096739791),\n",
       " FileInfo(path='dbfs:/databricks-datasets/wiki/', name='wiki/', size=0, modificationTime=1701096739791),\n",
       " FileInfo(path='dbfs:/databricks-datasets/wikipedia-datasets/', name='wikipedia-datasets/', size=0, modificationTime=1701096739791),\n",
       " FileInfo(path='dbfs:/databricks-datasets/wine-quality/', name='wine-quality/', size=0, modificationTime=1701096739791)]"
      ]
     },
     "execution_count": 1,
     "metadata": {},
     "output_type": "execute_result"
    }
   ],
   "source": [
    "dbutils.fs.ls(\"/databricks-datasets\")"
   ]
  },
  {
   "cell_type": "markdown",
   "metadata": {
    "application/vnd.databricks.v1+cell": {
     "cellMetadata": {},
     "inputWidgets": {},
     "nuid": "f66111ae-71f9-4146-9cb0-b0f1174b6b88",
     "showTitle": false,
     "title": ""
    }
   },
   "source": [
    "## Reading data from data source"
   ]
  },
  {
   "cell_type": "code",
   "execution_count": 0,
   "metadata": {
    "application/vnd.databricks.v1+cell": {
     "cellMetadata": {
      "byteLimit": 2048000,
      "rowLimit": 10000
     },
     "inputWidgets": {},
     "nuid": "f4b55405-c4ea-42a6-9c9f-7cb4963f0a97",
     "showTitle": false,
     "title": ""
    }
   },
   "outputs": [],
   "source": [
    "from pyspark.sql import functions as F"
   ]
  },
  {
   "cell_type": "code",
   "execution_count": 0,
   "metadata": {
    "application/vnd.databricks.v1+cell": {
     "cellMetadata": {
      "byteLimit": 2048000,
      "rowLimit": 10000
     },
     "inputWidgets": {},
     "nuid": "1a392e18-9144-434a-931b-17c4a34ab222",
     "showTitle": false,
     "title": ""
    }
   },
   "outputs": [
    {
     "output_type": "stream",
     "name": "stdout",
     "output_type": "stream",
     "text": [
      "+--------+-----+--------+------+-----------+\n|    date|delay|distance|origin|destination|\n+--------+-----+--------+------+-----------+\n|01011245|    6|     602|   ABE|        ATL|\n|01020600|   -8|     369|   ABE|        DTW|\n|01021245|   -2|     602|   ABE|        ATL|\n|01020605|   -4|     602|   ABE|        ATL|\n|01031245|   -4|     602|   ABE|        ATL|\n|01030605|    0|     602|   ABE|        ATL|\n|01041243|   10|     602|   ABE|        ATL|\n|01040605|   28|     602|   ABE|        ATL|\n|01051245|   88|     602|   ABE|        ATL|\n|01050605|    9|     602|   ABE|        ATL|\n|01061215|   -6|     602|   ABE|        ATL|\n|01061725|   69|     602|   ABE|        ATL|\n|01061230|    0|     369|   ABE|        DTW|\n|01060625|   -3|     602|   ABE|        ATL|\n|01070600|    0|     369|   ABE|        DTW|\n|01071725|    0|     602|   ABE|        ATL|\n|01071230|    0|     369|   ABE|        DTW|\n|01070625|    0|     602|   ABE|        ATL|\n|01071219|    0|     569|   ABE|        ORD|\n|01080600|    0|     369|   ABE|        DTW|\n+--------+-----+--------+------+-----------+\nonly showing top 20 rows\n\n"
     ]
    }
   ],
   "source": [
    "file_location = \"dbfs:/databricks-datasets/flights/\"\n",
    "file_type = \"csv\" \n",
    "\n",
    "df = spark.read.format(file_type) \\\n",
    "  .option(\"inferSchema\", \"true\") \\\n",
    "  .option(\"header\", \"true\") \\\n",
    "  .load(file_location)\n",
    "\n",
    "df.show()"
   ]
  },
  {
   "cell_type": "markdown",
   "metadata": {
    "application/vnd.databricks.v1+cell": {
     "cellMetadata": {},
     "inputWidgets": {},
     "nuid": "ef70b0d2-3a3b-48f6-8e89-a208d5513170",
     "showTitle": false,
     "title": ""
    }
   },
   "source": [
    "## Transforming the data"
   ]
  },
  {
   "cell_type": "code",
   "execution_count": 0,
   "metadata": {
    "application/vnd.databricks.v1+cell": {
     "cellMetadata": {
      "byteLimit": 2048000,
      "rowLimit": 10000
     },
     "inputWidgets": {},
     "nuid": "b14d4850-1147-4e22-ae7a-00abe0a7eed3",
     "showTitle": false,
     "title": ""
    }
   },
   "outputs": [
    {
     "output_type": "stream",
     "name": "stdout",
     "output_type": "stream",
     "text": [
      "+--------+-----+--------+------+-----------+\n|    date|delay|distance|origin|destination|\n+--------+-----+--------+------+-----------+\n|01020600|   -8|     369|   ABE|        DTW|\n|01061230|    0|     369|   ABE|        DTW|\n|01070600|    0|     369|   ABE|        DTW|\n|01071230|    0|     369|   ABE|        DTW|\n|01080600|    0|     369|   ABE|        DTW|\n|01081230|   33|     369|   ABE|        DTW|\n|01090600|  151|     369|   ABE|        DTW|\n|01091230|   -4|     369|   ABE|        DTW|\n|01100600|   -5|     369|   ABE|        DTW|\n|01101230|   -8|     369|   ABE|        DTW|\n|01110600|   -9|     369|   ABE|        DTW|\n|01130600|   -7|     369|   ABE|        DTW|\n|01131230|  -13|     369|   ABE|        DTW|\n|01140600|   -9|     369|   ABE|        DTW|\n|01141230|   -8|     369|   ABE|        DTW|\n|01150600|    0|     369|   ABE|        DTW|\n|01151230|    0|     369|   ABE|        DTW|\n|01160600|   -1|     369|   ABE|        DTW|\n|01161230|   -7|     369|   ABE|        DTW|\n|01170600|   -5|     369|   ABE|        DTW|\n+--------+-----+--------+------+-----------+\nonly showing top 20 rows\n\n"
     ]
    }
   ],
   "source": [
    "less_than_500_miles = df.filter(df[\"distance\"] < 500)\n",
    "less_than_500_miles.show()"
   ]
  },
  {
   "cell_type": "code",
   "execution_count": 0,
   "metadata": {
    "application/vnd.databricks.v1+cell": {
     "cellMetadata": {
      "byteLimit": 2048000,
      "rowLimit": 10000
     },
     "inputWidgets": {},
     "nuid": "ef0b706a-6671-40cf-947f-f149122da986",
     "showTitle": false,
     "title": ""
    }
   },
   "outputs": [
    {
     "output_type": "stream",
     "name": "stdout",
     "output_type": "stream",
     "text": [
      "+------+-------------+\n|origin|average_delay|\n+------+-------------+\n|   MSY|        11.81|\n|   SNA|         8.64|\n|   PSG|        -0.25|\n|   MYR|         7.86|\n|   PVD|        10.63|\n|   OAK|        12.79|\n|   MQT|        23.87|\n|   MSN|         9.36|\n|   SCC|        -1.52|\n|   MLU|         7.91|\n|   WRG|         -2.5|\n|   LEX|        13.84|\n|   RDM|         4.34|\n|   ORF|         12.9|\n|   SCE|        17.92|\n|   SAV|        12.74|\n|   TRI|         6.67|\n|   MOD|         9.93|\n|   TYR|         3.57|\n|   MOB|        11.69|\n+------+-------------+\nonly showing top 20 rows\n\n"
     ]
    }
   ],
   "source": [
    "avg_delay_less_than_500 = df.groupBy(\"origin\").agg(F.round(F.avg(\"delay\"), 2).alias(\"average_delay\"))\n",
    "avg_delay_less_than_500.show()"
   ]
  },
  {
   "cell_type": "markdown",
   "metadata": {
    "application/vnd.databricks.v1+cell": {
     "cellMetadata": {},
     "inputWidgets": {},
     "nuid": "ac88b377-c0d2-4de6-82a1-e4ad2d85048e",
     "showTitle": false,
     "title": ""
    }
   },
   "source": [
    "## Writing to data sink"
   ]
  },
  {
   "cell_type": "code",
   "execution_count": 0,
   "metadata": {
    "application/vnd.databricks.v1+cell": {
     "cellMetadata": {
      "byteLimit": 2048000,
      "rowLimit": 10000
     },
     "inputWidgets": {},
     "nuid": "9f109314-84dc-483f-9d38-960d583ddc60",
     "showTitle": false,
     "title": ""
    }
   },
   "outputs": [
    {
     "output_type": "display_data",
     "data": {
      "text/html": [
       "<style scoped>\n",
       "  .ansiout {\n",
       "    display: block;\n",
       "    unicode-bidi: embed;\n",
       "    white-space: pre-wrap;\n",
       "    word-wrap: break-word;\n",
       "    word-break: break-all;\n",
       "    font-family: \"Menlo\", \"Monaco\", \"Consolas\", \"Ubuntu Mono\", \"Source Code Pro\", monospace;\n",
       "    font-size: 13px;\n",
       "    color: #555;\n",
       "    margin-left: 4px;\n",
       "    line-height: 19px;\n",
       "  }\n",
       "</style>\n",
       "<div class=\"ansiout\">res0: Boolean = true\n",
       "</div>"
      ]
     },
     "metadata": {
      "application/vnd.databricks.v1+output": {
       "addedWidgets": {},
       "arguments": {},
       "data": "<div class=\"ansiout\">res0: Boolean = true\n</div>",
       "datasetInfos": [],
       "metadata": {
        "isDbfsCommandResult": false
       },
       "removedWidgets": [],
       "type": "html"
      }
     },
     "output_type": "display_data"
    }
   ],
   "source": [
    "%fs mkdirs /mnt/de-mini-project-11"
   ]
  },
  {
   "cell_type": "code",
   "execution_count": 0,
   "metadata": {
    "application/vnd.databricks.v1+cell": {
     "cellMetadata": {
      "byteLimit": 2048000,
      "rowLimit": 10000
     },
     "inputWidgets": {},
     "nuid": "7f1540c1-6eaf-4b08-8580-a8178dc03017",
     "showTitle": false,
     "title": ""
    }
   },
   "outputs": [],
   "source": [
    "avg_delay_less_than_500.write.parquet(\"/mnt/de-mini-project-11/avg_delay_less_than_500\")"
   ]
  },
  {
   "cell_type": "markdown",
   "metadata": {
    "application/vnd.databricks.v1+cell": {
     "cellMetadata": {},
     "inputWidgets": {},
     "nuid": "72b64d34-6ae7-49d8-a0af-4d2e8014b9e2",
     "showTitle": false,
     "title": ""
    }
   },
   "source": [
    "## Checking if it is written"
   ]
  },
  {
   "cell_type": "code",
   "execution_count": 0,
   "metadata": {
    "application/vnd.databricks.v1+cell": {
     "cellMetadata": {
      "byteLimit": 2048000,
      "rowLimit": 10000
     },
     "inputWidgets": {},
     "nuid": "af2ad515-de9d-4910-ac33-a9e1e176eed5",
     "showTitle": false,
     "title": ""
    }
   },
   "outputs": [
    {
     "output_type": "display_data",
     "data": {
      "text/html": [
       "<style scoped>\n",
       "  .table-result-container {\n",
       "    max-height: 300px;\n",
       "    overflow: auto;\n",
       "  }\n",
       "  table, th, td {\n",
       "    border: 1px solid black;\n",
       "    border-collapse: collapse;\n",
       "  }\n",
       "  th, td {\n",
       "    padding: 5px;\n",
       "  }\n",
       "  th {\n",
       "    text-align: left;\n",
       "  }\n",
       "</style><div class='table-result-container'><table class='table-result'><thead style='background-color: white'><tr><th>path</th><th>name</th><th>size</th><th>modificationTime</th></tr></thead><tbody><tr><td>dbfs:/mnt/de-mini-project-11/avg_delay_less_than_500/</td><td>avg_delay_less_than_500/</td><td>0</td><td>1701099759000</td></tr></tbody></table></div>"
      ]
     },
     "metadata": {
      "application/vnd.databricks.v1+output": {
       "addedWidgets": {},
       "aggData": [],
       "aggError": "",
       "aggOverflow": false,
       "aggSchema": [],
       "aggSeriesLimitReached": false,
       "aggType": "",
       "arguments": {},
       "columnCustomDisplayInfos": {},
       "data": [
        [
         "dbfs:/mnt/de-mini-project-11/avg_delay_less_than_500/",
         "avg_delay_less_than_500/",
         0,
         1701099759000
        ]
       ],
       "datasetInfos": [],
       "dbfsResultPath": null,
       "isJsonSchema": true,
       "metadata": {
        "isDbfsCommandResult": false
       },
       "overflow": false,
       "plotOptions": {
        "customPlotOptions": {},
        "displayType": "table",
        "pivotAggregation": null,
        "pivotColumns": null,
        "xColumns": null,
        "yColumns": null
       },
       "removedWidgets": [],
       "schema": [
        {
         "metadata": "{}",
         "name": "path",
         "type": "\"string\""
        },
        {
         "metadata": "{}",
         "name": "name",
         "type": "\"string\""
        },
        {
         "metadata": "{}",
         "name": "size",
         "type": "\"long\""
        },
        {
         "metadata": "{}",
         "name": "modificationTime",
         "type": "\"long\""
        }
       ],
       "type": "table"
      }
     },
     "output_type": "display_data"
    }
   ],
   "source": [
    "%fs ls /mnt/de-mini-project-11"
   ]
  },
  {
   "cell_type": "code",
   "execution_count": 0,
   "metadata": {
    "application/vnd.databricks.v1+cell": {
     "cellMetadata": {
      "byteLimit": 2048000,
      "rowLimit": 10000
     },
     "inputWidgets": {},
     "nuid": "b1c0b809-7ae2-41c8-ae20-f0d2b50808f7",
     "showTitle": false,
     "title": ""
    }
   },
   "outputs": [
    {
     "output_type": "stream",
     "name": "stdout",
     "output_type": "stream",
     "text": [
      "+------+-------------+\n|origin|average_delay|\n+------+-------------+\n|   MSY|        11.81|\n|   SNA|         8.64|\n|   PSG|        -0.25|\n|   MYR|         7.86|\n|   PVD|        10.63|\n|   OAK|        12.79|\n|   MQT|        23.87|\n|   MSN|         9.36|\n|   SCC|        -1.52|\n|   MLU|         7.91|\n|   WRG|         -2.5|\n|   LEX|        13.84|\n|   RDM|         4.34|\n|   ORF|         12.9|\n|   SCE|        17.92|\n|   SAV|        12.74|\n|   TRI|         6.67|\n|   MOD|         9.93|\n|   TYR|         3.57|\n|   MOB|        11.69|\n+------+-------------+\nonly showing top 20 rows\n\n"
     ]
    }
   ],
   "source": [
    "data_path = \"/mnt/de-mini-project-11/avg_delay_less_than_500/\"\n",
    "df = spark.read.format(\"parquet\").load(data_path)\n",
    "df.show()"
   ]
  }
 ],
 "metadata": {
  "application/vnd.databricks.v1+notebook": {
   "dashboards": [],
   "language": "python",
   "notebookMetadata": {
    "mostRecentlyExecutedCommandWithImplicitDF": {
     "commandId": -1,
     "dataframes": [
      "_sqldf"
     ]
    },
    "pythonIndentUnit": 4
   },
   "notebookName": "Data Pipeline with Databricks",
   "widgets": {}
  }
 },
 "nbformat": 4,
 "nbformat_minor": 0
}
